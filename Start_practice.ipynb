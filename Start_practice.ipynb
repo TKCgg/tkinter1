{
 "cells": [
  {
   "cell_type": "code",
   "execution_count": 3,
   "id": "556cd93d",
   "metadata": {},
   "outputs": [],
   "source": [
    "import tkinter\n",
    "\n",
    "#クラスの作成\n",
    "class Start_Script():\n",
    "    \n",
    "    def __init__(self):\n",
    "\n",
    "        #ウィンドウの作成\n",
    "        root = tkinter.Tk()\n",
    "        root.title('機械学習モデル')\n",
    "        root.minsize(640, 480)\n",
    "        root.option_add(\"*font\", [\"メイリオ\", 14])\n",
    "\n",
    "        #キャンバス作成\n",
    "        canvas = tkinter.Canvas(root, width=640, height=480)\n",
    "        canvas.create_rectangle(60, 60, 560, 400, fill='gray78')\n",
    "        canvas.pack()\n",
    "\n",
    "        # ラベル配置\n",
    "        label1 = tkinter.Label(text=\"モデル選択\", fg=\"red\")\n",
    "        label1.place(x=270,y=10)\n",
    "\n",
    "        #ボタン配置\n",
    "        button1 = tkinter.Button(text=\"LightGBM\")\n",
    "        button1.place(x=120, y=420)\n",
    "\n",
    "        button2 = tkinter.Button(text=\"Xgboost\")\n",
    "        button2.place(x=420, y=420)\n",
    "        \n",
    "        root.mainloop()"
   ]
  }
 ],
 "metadata": {
  "kernelspec": {
   "display_name": "Python 3",
   "language": "python",
   "name": "python3"
  },
  "language_info": {
   "codemirror_mode": {
    "name": "ipython",
    "version": 3
   },
   "file_extension": ".py",
   "mimetype": "text/x-python",
   "name": "python",
   "nbconvert_exporter": "python",
   "pygments_lexer": "ipython3",
   "version": "3.6.13"
  }
 },
 "nbformat": 4,
 "nbformat_minor": 5
}
