{
 "cells": [
  {
   "cell_type": "code",
   "execution_count": 5,
   "id": "212e10b1",
   "metadata": {},
   "outputs": [],
   "source": [
    "import tkinter\n",
    "\n",
    "# Tkクラス生成\n",
    "tki = tkinter.Tk()\n",
    "# 画面サイズ\n",
    "tki.geometry('300x200')\n",
    "# 画面タイトル\n",
    "tki.title('チェックボタン')\n",
    "\n",
    "# チェックボタンのラベルをリスト化する\n",
    "chk_txt = ['RMSE','R^2','MAE','MAPE','MAEP']\n",
    "# チェックボックスON/OFFの状態\n",
    "chk_bln = {}\n",
    "\n",
    "# チェックボタンを動的に作成して配置\n",
    "for i in range(len(chk_txt)):\n",
    "    chk_bln[i] = tkinter.BooleanVar()\n",
    "    chk = tkinter.Checkbutton(tki, variable=chk_bln[i], text=chk_txt[i]) \n",
    "    chk.place(x=50, y=30 + (i * 24))\n",
    "\n",
    "# ボタンクリックイベント(チェック有無をセット)\n",
    "def btn_click(bln):\n",
    "    for i in range(len(chk_bln)):\n",
    "        chk_bln[i].set(bln)\n",
    "\n",
    "# ボタン作成 \n",
    "btn = tkinter.Button(tki, text='ONにする', command=lambda:btn_click(True)) \n",
    "btn.place(x=80, y=170) \n",
    "btn = tkinter.Button(tki, text='OFFにする', command=lambda:btn_click(False)) \n",
    "btn.place(x=150, y=170)\n",
    "\n",
    "tki.mainloop()"
   ]
  },
  {
   "cell_type": "code",
   "execution_count": null,
   "id": "36d216a6",
   "metadata": {},
   "outputs": [],
   "source": []
  }
 ],
 "metadata": {
  "kernelspec": {
   "display_name": "Python 3",
   "language": "python",
   "name": "python3"
  },
  "language_info": {
   "codemirror_mode": {
    "name": "ipython",
    "version": 3
   },
   "file_extension": ".py",
   "mimetype": "text/x-python",
   "name": "python",
   "nbconvert_exporter": "python",
   "pygments_lexer": "ipython3",
   "version": "3.6.13"
  }
 },
 "nbformat": 4,
 "nbformat_minor": 5
}
