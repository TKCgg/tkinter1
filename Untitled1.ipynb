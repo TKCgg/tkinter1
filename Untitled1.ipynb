{
 "cells": [
  {
   "cell_type": "code",
   "execution_count": null,
   "id": "68094b7f",
   "metadata": {},
   "outputs": [],
   "source": [
    "from tkinter import filedialog\n",
    "\n",
    "typ = [('csvファイル','*.csv')] \n",
    "dir = 'C:\\\\'\n",
    "fle = filedialog.askopenfilename(filetypes = typ, initialdir = dir) \n",
    "\n",
    "print(fle)"
   ]
  },
  {
   "cell_type": "code",
   "execution_count": null,
   "id": "0250a108",
   "metadata": {},
   "outputs": [],
   "source": []
  }
 ],
 "metadata": {
  "kernelspec": {
   "display_name": "Python 3",
   "language": "python",
   "name": "python3"
  },
  "language_info": {
   "codemirror_mode": {
    "name": "ipython",
    "version": 3
   },
   "file_extension": ".py",
   "mimetype": "text/x-python",
   "name": "python",
   "nbconvert_exporter": "python",
   "pygments_lexer": "ipython3",
   "version": "3.6.13"
  }
 },
 "nbformat": 4,
 "nbformat_minor": 5
}
