{
 "cells": [
  {
   "cell_type": "code",
   "execution_count": 10,
   "id": "74b6b5a0",
   "metadata": {},
   "outputs": [],
   "source": [
    "import tkinter\n",
    "import pandas as pd\n",
    "\n",
    "#ウィンドウ作成\n",
    "root = tkinter.Tk()\n",
    "root.title('ファイル読み込み')\n",
    "root.minsize(640, 480)\n",
    "root.option_add(\"*font\", [\"メイリオ\", 14])\n",
    "\n",
    "# ボタン配置\n",
    "button_dialog = tkinter.Button(text='ファイルの選択')\n",
    "button_dialog.place(x=200, y=200)    \n",
    "\n",
    "\n",
    "# ボタン配置\n",
    "button_file = tkinter.Button(text='ok')\n",
    "button_file.place(x=320, y=420)\n",
    "\n",
    "#格納変数\n",
    "sol_df_text_list = []\n",
    "\n",
    "# ボタンクリックイベント関数\n",
    "def btn_file_click():\n",
    "    \n",
    "    # ファイルダイアログの取得\n",
    "    from tkinter import filedialog\n",
    "    typ = [('csvファイル','*.csv')] \n",
    "    dir = 'C:\\\\'\n",
    "    fle = filedialog.askopenfilename(filetypes = typ, initialdir = dir) \n",
    "\n",
    "    #csvデータの読み込み\n",
    "    sol_df = pd.read_csv(fle)\n",
    "    \n",
    "    #余分となった部分の消去\n",
    "    button_file.destroy()\n",
    "    button_dialog.destroy()\n",
    "    \n",
    "    #カラム名の取得     \n",
    "    for i in range(len(sol_df.columns)):\n",
    "        sol_df_text = tkinter.Label(text= sol_df.columns[i], font=(\"メイリオ\",\"12\"))\n",
    "        sol_df_text.place(x=100, y=10 + (i*24))\n",
    "        \n",
    "    #行、列の数の表示\n",
    "    gyou_text = tkinter.Label(text='行:' + str(len(sol_df)), font=(\"メイリオ\", '15'))\n",
    "    gyou_text.place(x=300, y=70)\n",
    "    retu_text = tkinter.Label(text='列:' + str(len(sol_df.columns)), font=(\"メイリオ\", '15'))\n",
    "    retu_text.place(x=300, y=30)\n",
    "    \n",
    "        \n",
    "        \n",
    "# ボタンクリックイベントと関数の関連付け\n",
    "button_dialog[\"command\"] = btn_file_click\n",
    "    \n",
    "    \n",
    "root.mainloop()"
   ]
  },
  {
   "cell_type": "code",
   "execution_count": null,
   "id": "5a29703d",
   "metadata": {},
   "outputs": [],
   "source": []
  }
 ],
 "metadata": {
  "kernelspec": {
   "display_name": "Python 3",
   "language": "python",
   "name": "python3"
  },
  "language_info": {
   "codemirror_mode": {
    "name": "ipython",
    "version": 3
   },
   "file_extension": ".py",
   "mimetype": "text/x-python",
   "name": "python",
   "nbconvert_exporter": "python",
   "pygments_lexer": "ipython3",
   "version": "3.6.13"
  }
 },
 "nbformat": 4,
 "nbformat_minor": 5
}
