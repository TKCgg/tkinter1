{
 "cells": [
  {
   "cell_type": "code",
   "execution_count": 24,
   "id": "74b6b5a0",
   "metadata": {},
   "outputs": [],
   "source": [
    "import tkinter\n",
    "import pandas as pd\n",
    "\n",
    "#ウィンドウ作成\n",
    "root = tkinter.Tk()\n",
    "root.title('ファイル読み込み')\n",
    "root.minsize(640, 480)\n",
    "root.option_add(\"*font\", [\"メイリオ\", 14])\n",
    "\n",
    "# 入力ボックス配置\n",
    "entry = tkinter.Entry(width=20)\n",
    "entry.place(x=180, y=220)\n",
    "csv_text = tkinter.Label(text='.csv')\n",
    "csv_text.place(x=410, y=220)\n",
    "\n",
    "\n",
    "# ボタン配置\n",
    "button_file = tkinter.Button(text='ok')\n",
    "button_file.place(x=320, y=420)\n",
    "\n",
    "#格納変数\n",
    "sol_df_text_list = []\n",
    "\n",
    "# ボタンクリックイベント関数\n",
    "def btn_file_click():\n",
    "    file_name = str(entry.get())\n",
    "    #csvデータの読み込み\n",
    "    sol_df = pd.read_csv(file_name + '.csv')\n",
    "    \n",
    "    #余分となった部分の消去\n",
    "    button_file.destroy()\n",
    "    entry.destroy()\n",
    "    csv_text.destroy()\n",
    "\n",
    "    for i in range(len(sol_df.columns)):\n",
    "        sol_df_text = tkinter.Label(text= sol_df.columns[i], font=(\"メイリオ\",\"12\"))\n",
    "        sol_df_text.place(x=100, y=10 + (i*24))\n",
    "        \n",
    "        \n",
    "# ボタンクリックイベントと関数の関連付け\n",
    "button_file[\"command\"] = btn_file_click\n",
    "    \n",
    "    \n",
    "root.mainloop()"
   ]
  },
  {
   "cell_type": "code",
   "execution_count": null,
   "id": "5a29703d",
   "metadata": {},
   "outputs": [],
   "source": []
  }
 ],
 "metadata": {
  "kernelspec": {
   "display_name": "Python 3",
   "language": "python",
   "name": "python3"
  },
  "language_info": {
   "codemirror_mode": {
    "name": "ipython",
    "version": 3
   },
   "file_extension": ".py",
   "mimetype": "text/x-python",
   "name": "python",
   "nbconvert_exporter": "python",
   "pygments_lexer": "ipython3",
   "version": "3.6.13"
  }
 },
 "nbformat": 4,
 "nbformat_minor": 5
}
