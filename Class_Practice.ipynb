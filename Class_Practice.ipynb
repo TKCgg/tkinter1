{
 "cells": [
  {
   "cell_type": "code",
   "execution_count": 3,
   "id": "df044ff4",
   "metadata": {},
   "outputs": [
    {
     "data": {
      "text/plain": [
       "<Start_practice.Start_Script at 0x203312b4be0>"
      ]
     },
     "execution_count": 3,
     "metadata": {},
     "output_type": "execute_result"
    }
   ],
   "source": [
    "import Start_practice\n",
    "Start_practice.Start_Script()"
   ]
  },
  {
   "cell_type": "code",
   "execution_count": 48,
   "id": "e3fd7168",
   "metadata": {},
   "outputs": [],
   "source": [
    "import tkinter"
   ]
  },
  {
   "cell_type": "code",
   "execution_count": 6,
   "id": "0b7492d8",
   "metadata": {},
   "outputs": [
    {
     "data": {
      "text/plain": [
       "<Start_practice.Start_Script at 0x203312cf518>"
      ]
     },
     "execution_count": 6,
     "metadata": {},
     "output_type": "execute_result"
    }
   ],
   "source": [
    "Start_practice.Start_Script()"
   ]
  },
  {
   "cell_type": "code",
   "execution_count": 2,
   "id": "cdf851bb",
   "metadata": {},
   "outputs": [],
   "source": [
    "import Start_Script"
   ]
  },
  {
   "cell_type": "code",
   "execution_count": null,
   "id": "841cedd7",
   "metadata": {},
   "outputs": [],
   "source": []
  }
 ],
 "metadata": {
  "kernelspec": {
   "display_name": "Python 3",
   "language": "python",
   "name": "python3"
  },
  "language_info": {
   "codemirror_mode": {
    "name": "ipython",
    "version": 3
   },
   "file_extension": ".py",
   "mimetype": "text/x-python",
   "name": "python",
   "nbconvert_exporter": "python",
   "pygments_lexer": "ipython3",
   "version": "3.6.13"
  }
 },
 "nbformat": 4,
 "nbformat_minor": 5
}
