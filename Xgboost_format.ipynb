{
 "cells": [
  {
   "cell_type": "code",
   "execution_count": 1,
   "metadata": {
    "executionInfo": {
     "elapsed": 511,
     "status": "ok",
     "timestamp": 1635178948028,
     "user": {
      "displayName": "Takeshi WATANABE",
      "photoUrl": "https://lh3.googleusercontent.com/a/default-user=s64",
      "userId": "13704078326705603725"
     },
     "user_tz": -540
    },
    "id": "Ndy5hs_KneEB"
   },
   "outputs": [],
   "source": [
    "# import文一覧\n",
    "#データ解析用ライブラリ\n",
    "import pandas as pd\n",
    "import numpy as np\n",
    "\n",
    "#データ可視化ライブラリ\n",
    "import matplotlib.pyplot as plt\n",
    "import seaborn as sns\n",
    "\n",
    "#Xgboostライブラリ\n",
    "import xgboost as xgb\n",
    "\n",
    "#訓練データとモデル評価用データに分けるライブラリ\n",
    "from sklearn.model_selection import train_test_split\n",
    "\n",
    "#LavelEncoderのライブラリをインポート\n",
    "from sklearn.preprocessing import LabelEncoder"
   ]
  },
  {
   "cell_type": "code",
   "execution_count": 2,
   "metadata": {
    "executionInfo": {
     "elapsed": 6,
     "status": "ok",
     "timestamp": 1635178949719,
     "user": {
      "displayName": "Takeshi WATANABE",
      "photoUrl": "https://lh3.googleusercontent.com/a/default-user=s64",
      "userId": "13704078326705603725"
     },
     "user_tz": -540
    },
    "id": "uIKmTnZoB4FD"
   },
   "outputs": [],
   "source": [
    "#一通り評価指標をインポート\n",
    "from sklearn.metrics import mean_squared_error as mse\n",
    "from sklearn.metrics import r2_score\n",
    "from sklearn.metrics import mean_absolute_error as mae"
   ]
  },
  {
   "cell_type": "code",
   "execution_count": 3,
   "metadata": {
    "executionInfo": {
     "elapsed": 753,
     "status": "ok",
     "timestamp": 1635178969384,
     "user": {
      "displayName": "Takeshi WATANABE",
      "photoUrl": "https://lh3.googleusercontent.com/a/default-user=s64",
      "userId": "13704078326705603725"
     },
     "user_tz": -540
    },
    "id": "G46G0LV2neED"
   },
   "outputs": [],
   "source": [
    "#csvデータの読み込み\n",
    "sol_df = pd.read_csv('2015_winter_FP.csv')\n",
    "sol_df = sol_df.drop('Cell_number', axis=1)\n",
    "sol_df_copy = sol_df"
   ]
  },
  {
   "cell_type": "code",
   "execution_count": 85,
   "metadata": {
    "executionInfo": {
     "elapsed": 5,
     "status": "ok",
     "timestamp": 1635178971261,
     "user": {
      "displayName": "Takeshi WATANABE",
      "photoUrl": "https://lh3.googleusercontent.com/a/default-user=s64",
      "userId": "13704078326705603725"
     },
     "user_tz": -540
    },
    "id": "T_0GvNUKneEE"
   },
   "outputs": [],
   "source": [
    "#時系列データに変換するためにデータ型を文字列型に変換\n",
    "sol_df_copy = sol_df_copy.astype({'year': 'str', 'month': 'str', 'day':'str', 'time':'str'})"
   ]
  },
  {
   "cell_type": "code",
   "execution_count": 86,
   "metadata": {
    "executionInfo": {
     "elapsed": 669,
     "status": "ok",
     "timestamp": 1635178974312,
     "user": {
      "displayName": "Takeshi WATANABE",
      "photoUrl": "https://lh3.googleusercontent.com/a/default-user=s64",
      "userId": "13704078326705603725"
     },
     "user_tz": -540
    },
    "id": "bOBqm3RRneEF"
   },
   "outputs": [],
   "source": [
    "#時系列データの作成\n",
    "sol_df_copy['datetime'] = '200' + sol_df_copy['year'] + '-' + sol_df_copy['month'] + '-' + sol_df_copy['day'] + ' ' + sol_df_copy['time'] + ':00'"
   ]
  },
  {
   "cell_type": "code",
   "execution_count": 87,
   "metadata": {
    "executionInfo": {
     "elapsed": 928,
     "status": "ok",
     "timestamp": 1635178977106,
     "user": {
      "displayName": "Takeshi WATANABE",
      "photoUrl": "https://lh3.googleusercontent.com/a/default-user=s64",
      "userId": "13704078326705603725"
     },
     "user_tz": -540
    },
    "id": "7oayCTUKneEF"
   },
   "outputs": [],
   "source": [
    "sol_df_copy['datetime'] =  pd.to_datetime(sol_df_copy['datetime']) "
   ]
  },
  {
   "cell_type": "code",
   "execution_count": 88,
   "metadata": {
    "executionInfo": {
     "elapsed": 407,
     "status": "ok",
     "timestamp": 1635179829324,
     "user": {
      "displayName": "Takeshi WATANABE",
      "photoUrl": "https://lh3.googleusercontent.com/a/default-user=s64",
      "userId": "13704078326705603725"
     },
     "user_tz": -540
    },
    "id": "nNkX1RPtT7yQ"
   },
   "outputs": [],
   "source": [
    "sol_df = sol_df.dropna()"
   ]
  },
  {
   "cell_type": "code",
   "execution_count": 89,
   "metadata": {
    "executionInfo": {
     "elapsed": 316,
     "status": "ok",
     "timestamp": 1635179979526,
     "user": {
      "displayName": "Takeshi WATANABE",
      "photoUrl": "https://lh3.googleusercontent.com/a/default-user=s64",
      "userId": "13704078326705603725"
     },
     "user_tz": -540
    },
    "id": "L--YlQLdUipB"
   },
   "outputs": [],
   "source": [
    "sol_df_copy = sol_df_copy.dropna()"
   ]
  },
  {
   "cell_type": "code",
   "execution_count": 90,
   "metadata": {
    "executionInfo": {
     "elapsed": 326,
     "status": "ok",
     "timestamp": 1635179832392,
     "user": {
      "displayName": "Takeshi WATANABE",
      "photoUrl": "https://lh3.googleusercontent.com/a/default-user=s64",
      "userId": "13704078326705603725"
     },
     "user_tz": -540
    },
    "id": "KG4V4yx58-_-"
   },
   "outputs": [],
   "source": [
    "# 終値を24時間分移動させる\n",
    "sol_df_shift = sol_df_copy\n",
    "sol_df_shift.EGC = sol_df_shift.EGC.shift(-24)"
   ]
  },
  {
   "cell_type": "code",
   "execution_count": 91,
   "metadata": {
    "colab": {
     "base_uri": "https://localhost:8080/"
    },
    "executionInfo": {
     "elapsed": 313,
     "status": "ok",
     "timestamp": 1635179833968,
     "user": {
      "displayName": "Takeshi WATANABE",
      "photoUrl": "https://lh3.googleusercontent.com/a/default-user=s64",
      "userId": "13704078326705603725"
     },
     "user_tz": -540
    },
    "id": "BWE3sNZd_pXK",
    "outputId": "e1988618-48fd-40f6-89d5-28d8c1dcf4a9"
   },
   "outputs": [],
   "source": [
    "# 最後の行を除外\n",
    "sol_df_shift = sol_df_shift[:-24]\n",
    " \n",
    "# 念のためデータをdf_2として新しいデータフレームへコピ−\n",
    "df_2 = sol_df_shift.copy()"
   ]
  },
  {
   "cell_type": "code",
   "execution_count": 92,
   "metadata": {
    "executionInfo": {
     "elapsed": 270,
     "status": "ok",
     "timestamp": 1635179839151,
     "user": {
      "displayName": "Takeshi WATANABE",
      "photoUrl": "https://lh3.googleusercontent.com/a/default-user=s64",
      "userId": "13704078326705603725"
     },
     "user_tz": -540
    },
    "id": "Nb520rLXA6tp"
   },
   "outputs": [],
   "source": [
    "xgb_params = {\n",
    "    \"learning_rate\":0.05,\n",
    "    \"seed\":4\n",
    "}"
   ]
  },
  {
   "cell_type": "code",
   "execution_count": 93,
   "metadata": {},
   "outputs": [],
   "source": [
    "#object型の変数を取得\n",
    "categories = sol_df_shift.columns[sol_df_shift.dtypes == \"object\"]"
   ]
  },
  {
   "cell_type": "code",
   "execution_count": 97,
   "metadata": {},
   "outputs": [
    {
     "name": "stderr",
     "output_type": "stream",
     "text": [
      "C:\\anaconda3\\envs\\py36\\lib\\site-packages\\ipykernel_launcher.py:3: SettingWithCopyWarning: \n",
      "A value is trying to be set on a copy of a slice from a DataFrame.\n",
      "Try using .loc[row_indexer,col_indexer] = value instead\n",
      "\n",
      "See the caveats in the documentation: https://pandas.pydata.org/pandas-docs/stable/user_guide/indexing.html#returning-a-view-versus-a-copy\n",
      "  This is separate from the ipykernel package so we can avoid doing imports until\n"
     ]
    }
   ],
   "source": [
    "#データ型を元に戻す\n",
    "for cat in categories:\n",
    "    sol_df_shift[cat] = sol_df_shift[cat].astype('int')"
   ]
  },
  {
   "cell_type": "code",
   "execution_count": 115,
   "metadata": {
    "executionInfo": {
     "elapsed": 2,
     "status": "ok",
     "timestamp": 1635179840702,
     "user": {
      "displayName": "Takeshi WATANABE",
      "photoUrl": "https://lh3.googleusercontent.com/a/default-user=s64",
      "userId": "13704078326705603725"
     },
     "user_tz": -540
    },
    "id": "cBS0rEH6RQIN"
   },
   "outputs": [],
   "source": [
    "#データの区分け\n",
    "train_set, test_set = train_test_split(sol_df_shift, test_size=0.2, random_state=4, shuffle=False, stratify=None)"
   ]
  },
  {
   "cell_type": "code",
   "execution_count": 116,
   "metadata": {},
   "outputs": [
    {
     "data": {
      "text/html": [
       "<div>\n",
       "<style scoped>\n",
       "    .dataframe tbody tr th:only-of-type {\n",
       "        vertical-align: middle;\n",
       "    }\n",
       "\n",
       "    .dataframe tbody tr th {\n",
       "        vertical-align: top;\n",
       "    }\n",
       "\n",
       "    .dataframe thead th {\n",
       "        text-align: right;\n",
       "    }\n",
       "</style>\n",
       "<table border=\"1\" class=\"dataframe\">\n",
       "  <thead>\n",
       "    <tr style=\"text-align: right;\">\n",
       "      <th></th>\n",
       "      <th>year</th>\n",
       "      <th>month</th>\n",
       "      <th>day</th>\n",
       "      <th>time</th>\n",
       "      <th>peak_AM</th>\n",
       "      <th>peak_PM</th>\n",
       "      <th>Insolation</th>\n",
       "      <th>Temperature</th>\n",
       "      <th>Cloud_cover</th>\n",
       "      <th>Insolation_2</th>\n",
       "      <th>Exp_Insolation</th>\n",
       "      <th>Seek_number1</th>\n",
       "      <th>Seek_number2</th>\n",
       "      <th>EGC</th>\n",
       "      <th>Insolation_difference</th>\n",
       "      <th>Temperature_difference</th>\n",
       "      <th>datetime</th>\n",
       "    </tr>\n",
       "  </thead>\n",
       "  <tbody>\n",
       "    <tr>\n",
       "      <th>1784</th>\n",
       "      <td>5</td>\n",
       "      <td>3</td>\n",
       "      <td>16</td>\n",
       "      <td>8</td>\n",
       "      <td>0.0</td>\n",
       "      <td>0.0</td>\n",
       "      <td>0.593</td>\n",
       "      <td>10.4</td>\n",
       "      <td>2.0</td>\n",
       "      <td>28.17</td>\n",
       "      <td>46280.2</td>\n",
       "      <td>301.1</td>\n",
       "      <td>37.47</td>\n",
       "      <td>3.6014</td>\n",
       "      <td>-0.006</td>\n",
       "      <td>2.3</td>\n",
       "      <td>2005-03-16 08:00:00</td>\n",
       "    </tr>\n",
       "    <tr>\n",
       "      <th>1785</th>\n",
       "      <td>5</td>\n",
       "      <td>3</td>\n",
       "      <td>16</td>\n",
       "      <td>9</td>\n",
       "      <td>0.0</td>\n",
       "      <td>0.0</td>\n",
       "      <td>0.587</td>\n",
       "      <td>12.7</td>\n",
       "      <td>2.0</td>\n",
       "      <td>27.61</td>\n",
       "      <td>45008.7</td>\n",
       "      <td>300.9</td>\n",
       "      <td>36.52</td>\n",
       "      <td>2.9585</td>\n",
       "      <td>0.131</td>\n",
       "      <td>1.8</td>\n",
       "      <td>2005-03-16 09:00:00</td>\n",
       "    </tr>\n",
       "    <tr>\n",
       "      <th>1786</th>\n",
       "      <td>5</td>\n",
       "      <td>3</td>\n",
       "      <td>16</td>\n",
       "      <td>10</td>\n",
       "      <td>0.0</td>\n",
       "      <td>0.0</td>\n",
       "      <td>0.718</td>\n",
       "      <td>14.5</td>\n",
       "      <td>2.0</td>\n",
       "      <td>32.98</td>\n",
       "      <td>53711.1</td>\n",
       "      <td>293.4</td>\n",
       "      <td>44.73</td>\n",
       "      <td>1.0523</td>\n",
       "      <td>0.229</td>\n",
       "      <td>2.5</td>\n",
       "      <td>2005-03-16 10:00:00</td>\n",
       "    </tr>\n",
       "    <tr>\n",
       "      <th>1787</th>\n",
       "      <td>5</td>\n",
       "      <td>3</td>\n",
       "      <td>16</td>\n",
       "      <td>11</td>\n",
       "      <td>1.0</td>\n",
       "      <td>0.0</td>\n",
       "      <td>0.947</td>\n",
       "      <td>17.0</td>\n",
       "      <td>9.0</td>\n",
       "      <td>41.23</td>\n",
       "      <td>67673.8</td>\n",
       "      <td>277.0</td>\n",
       "      <td>59.80</td>\n",
       "      <td>0.8736</td>\n",
       "      <td>-0.055</td>\n",
       "      <td>1.5</td>\n",
       "      <td>2005-03-16 11:00:00</td>\n",
       "    </tr>\n",
       "    <tr>\n",
       "      <th>1788</th>\n",
       "      <td>5</td>\n",
       "      <td>3</td>\n",
       "      <td>16</td>\n",
       "      <td>12</td>\n",
       "      <td>0.0</td>\n",
       "      <td>1.0</td>\n",
       "      <td>0.892</td>\n",
       "      <td>18.5</td>\n",
       "      <td>9.0</td>\n",
       "      <td>39.32</td>\n",
       "      <td>64599.0</td>\n",
       "      <td>276.0</td>\n",
       "      <td>57.36</td>\n",
       "      <td>1.3454</td>\n",
       "      <td>-0.176</td>\n",
       "      <td>0.3</td>\n",
       "      <td>2005-03-16 12:00:00</td>\n",
       "    </tr>\n",
       "    <tr>\n",
       "      <th>...</th>\n",
       "      <td>...</td>\n",
       "      <td>...</td>\n",
       "      <td>...</td>\n",
       "      <td>...</td>\n",
       "      <td>...</td>\n",
       "      <td>...</td>\n",
       "      <td>...</td>\n",
       "      <td>...</td>\n",
       "      <td>...</td>\n",
       "      <td>...</td>\n",
       "      <td>...</td>\n",
       "      <td>...</td>\n",
       "      <td>...</td>\n",
       "      <td>...</td>\n",
       "      <td>...</td>\n",
       "      <td>...</td>\n",
       "      <td>...</td>\n",
       "    </tr>\n",
       "    <tr>\n",
       "      <th>2130</th>\n",
       "      <td>5</td>\n",
       "      <td>3</td>\n",
       "      <td>30</td>\n",
       "      <td>18</td>\n",
       "      <td>0.0</td>\n",
       "      <td>0.0</td>\n",
       "      <td>0.000</td>\n",
       "      <td>11.7</td>\n",
       "      <td>7.0</td>\n",
       "      <td>0.00</td>\n",
       "      <td>0.0</td>\n",
       "      <td>31.0</td>\n",
       "      <td>0.00</td>\n",
       "      <td>0.0000</td>\n",
       "      <td>0.000</td>\n",
       "      <td>-0.7</td>\n",
       "      <td>2005-03-30 18:00:00</td>\n",
       "    </tr>\n",
       "    <tr>\n",
       "      <th>2131</th>\n",
       "      <td>5</td>\n",
       "      <td>3</td>\n",
       "      <td>30</td>\n",
       "      <td>19</td>\n",
       "      <td>0.0</td>\n",
       "      <td>0.0</td>\n",
       "      <td>0.000</td>\n",
       "      <td>11.0</td>\n",
       "      <td>7.0</td>\n",
       "      <td>0.00</td>\n",
       "      <td>0.0</td>\n",
       "      <td>0.0</td>\n",
       "      <td>0.00</td>\n",
       "      <td>0.0000</td>\n",
       "      <td>0.000</td>\n",
       "      <td>-1.3</td>\n",
       "      <td>2005-03-30 19:00:00</td>\n",
       "    </tr>\n",
       "    <tr>\n",
       "      <th>2132</th>\n",
       "      <td>5</td>\n",
       "      <td>3</td>\n",
       "      <td>30</td>\n",
       "      <td>20</td>\n",
       "      <td>0.0</td>\n",
       "      <td>0.0</td>\n",
       "      <td>0.000</td>\n",
       "      <td>9.7</td>\n",
       "      <td>2.0</td>\n",
       "      <td>0.00</td>\n",
       "      <td>0.0</td>\n",
       "      <td>0.0</td>\n",
       "      <td>0.00</td>\n",
       "      <td>0.0000</td>\n",
       "      <td>0.000</td>\n",
       "      <td>-0.7</td>\n",
       "      <td>2005-03-30 20:00:00</td>\n",
       "    </tr>\n",
       "    <tr>\n",
       "      <th>2133</th>\n",
       "      <td>5</td>\n",
       "      <td>3</td>\n",
       "      <td>30</td>\n",
       "      <td>21</td>\n",
       "      <td>0.0</td>\n",
       "      <td>0.0</td>\n",
       "      <td>0.000</td>\n",
       "      <td>9.0</td>\n",
       "      <td>2.0</td>\n",
       "      <td>0.00</td>\n",
       "      <td>0.0</td>\n",
       "      <td>0.0</td>\n",
       "      <td>0.00</td>\n",
       "      <td>0.0000</td>\n",
       "      <td>0.000</td>\n",
       "      <td>-0.9</td>\n",
       "      <td>2005-03-30 21:00:00</td>\n",
       "    </tr>\n",
       "    <tr>\n",
       "      <th>2134</th>\n",
       "      <td>5</td>\n",
       "      <td>3</td>\n",
       "      <td>30</td>\n",
       "      <td>22</td>\n",
       "      <td>0.0</td>\n",
       "      <td>0.0</td>\n",
       "      <td>0.000</td>\n",
       "      <td>8.1</td>\n",
       "      <td>2.0</td>\n",
       "      <td>0.00</td>\n",
       "      <td>0.0</td>\n",
       "      <td>0.0</td>\n",
       "      <td>0.00</td>\n",
       "      <td>0.0000</td>\n",
       "      <td>0.000</td>\n",
       "      <td>-0.7</td>\n",
       "      <td>2005-03-30 22:00:00</td>\n",
       "    </tr>\n",
       "  </tbody>\n",
       "</table>\n",
       "<p>351 rows × 17 columns</p>\n",
       "</div>"
      ],
      "text/plain": [
       "      year  month  day  time  peak_AM  peak_PM  Insolation  Temperature  \\\n",
       "1784     5      3   16     8      0.0      0.0       0.593         10.4   \n",
       "1785     5      3   16     9      0.0      0.0       0.587         12.7   \n",
       "1786     5      3   16    10      0.0      0.0       0.718         14.5   \n",
       "1787     5      3   16    11      1.0      0.0       0.947         17.0   \n",
       "1788     5      3   16    12      0.0      1.0       0.892         18.5   \n",
       "...    ...    ...  ...   ...      ...      ...         ...          ...   \n",
       "2130     5      3   30    18      0.0      0.0       0.000         11.7   \n",
       "2131     5      3   30    19      0.0      0.0       0.000         11.0   \n",
       "2132     5      3   30    20      0.0      0.0       0.000          9.7   \n",
       "2133     5      3   30    21      0.0      0.0       0.000          9.0   \n",
       "2134     5      3   30    22      0.0      0.0       0.000          8.1   \n",
       "\n",
       "      Cloud_cover  Insolation_2  Exp_Insolation  Seek_number1  Seek_number2  \\\n",
       "1784          2.0         28.17         46280.2         301.1         37.47   \n",
       "1785          2.0         27.61         45008.7         300.9         36.52   \n",
       "1786          2.0         32.98         53711.1         293.4         44.73   \n",
       "1787          9.0         41.23         67673.8         277.0         59.80   \n",
       "1788          9.0         39.32         64599.0         276.0         57.36   \n",
       "...           ...           ...             ...           ...           ...   \n",
       "2130          7.0          0.00             0.0          31.0          0.00   \n",
       "2131          7.0          0.00             0.0           0.0          0.00   \n",
       "2132          2.0          0.00             0.0           0.0          0.00   \n",
       "2133          2.0          0.00             0.0           0.0          0.00   \n",
       "2134          2.0          0.00             0.0           0.0          0.00   \n",
       "\n",
       "         EGC  Insolation_difference  Temperature_difference  \\\n",
       "1784  3.6014                 -0.006                     2.3   \n",
       "1785  2.9585                  0.131                     1.8   \n",
       "1786  1.0523                  0.229                     2.5   \n",
       "1787  0.8736                 -0.055                     1.5   \n",
       "1788  1.3454                 -0.176                     0.3   \n",
       "...      ...                    ...                     ...   \n",
       "2130  0.0000                  0.000                    -0.7   \n",
       "2131  0.0000                  0.000                    -1.3   \n",
       "2132  0.0000                  0.000                    -0.7   \n",
       "2133  0.0000                  0.000                    -0.9   \n",
       "2134  0.0000                  0.000                    -0.7   \n",
       "\n",
       "                datetime  \n",
       "1784 2005-03-16 08:00:00  \n",
       "1785 2005-03-16 09:00:00  \n",
       "1786 2005-03-16 10:00:00  \n",
       "1787 2005-03-16 11:00:00  \n",
       "1788 2005-03-16 12:00:00  \n",
       "...                  ...  \n",
       "2130 2005-03-30 18:00:00  \n",
       "2131 2005-03-30 19:00:00  \n",
       "2132 2005-03-30 20:00:00  \n",
       "2133 2005-03-30 21:00:00  \n",
       "2134 2005-03-30 22:00:00  \n",
       "\n",
       "[351 rows x 17 columns]"
      ]
     },
     "execution_count": 116,
     "metadata": {},
     "output_type": "execute_result"
    }
   ],
   "source": [
    "#データの確認\n",
    "test_set"
   ]
  },
  {
   "cell_type": "code",
   "execution_count": 117,
   "metadata": {
    "executionInfo": {
     "elapsed": 335,
     "status": "ok",
     "timestamp": 1635179842644,
     "user": {
      "displayName": "Takeshi WATANABE",
      "photoUrl": "https://lh3.googleusercontent.com/a/default-user=s64",
      "userId": "13704078326705603725"
     },
     "user_tz": -540
    },
    "id": "OmMQwq5ARnb8"
   },
   "outputs": [],
   "source": [
    "#訓練データを説明変数データ(X_train)と目的変数データ(y_train)に分割\n",
    "X_train = train_set.drop(['EGC','datetime'], axis=1)\n",
    "y_train = train_set['EGC']"
   ]
  },
  {
   "cell_type": "code",
   "execution_count": 118,
   "metadata": {
    "executionInfo": {
     "elapsed": 445,
     "status": "ok",
     "timestamp": 1635179844387,
     "user": {
      "displayName": "Takeshi WATANABE",
      "photoUrl": "https://lh3.googleusercontent.com/a/default-user=s64",
      "userId": "13704078326705603725"
     },
     "user_tz": -540
    },
    "id": "X2KE7nxbRm-f"
   },
   "outputs": [],
   "source": [
    "#モデル評価用データを説明変数データ(X_train)と目的変数データ(y_train)に分割\n",
    "X_test = test_set.drop(['EGC', 'datetime'], axis=1)\n",
    "y_test = test_set['EGC']"
   ]
  },
  {
   "cell_type": "code",
   "execution_count": 119,
   "metadata": {
    "executionInfo": {
     "elapsed": 3,
     "status": "ok",
     "timestamp": 1635179845999,
     "user": {
      "displayName": "Takeshi WATANABE",
      "photoUrl": "https://lh3.googleusercontent.com/a/default-user=s64",
      "userId": "13704078326705603725"
     },
     "user_tz": -540
    },
    "id": "fAPi0xRcR0Aj"
   },
   "outputs": [],
   "source": [
    "#xgboost用データ\n",
    "xgb_train = xgb.DMatrix(X_train,label=y_train)\n",
    "xgb_eval = xgb.DMatrix(X_test, label=y_test)\n",
    "evals = [(xgb_train, \"train\"), (xgb_eval, \"eval\")]"
   ]
  },
  {
   "cell_type": "code",
   "execution_count": 120,
   "metadata": {
    "colab": {
     "base_uri": "https://localhost:8080/"
    },
    "executionInfo": {
     "elapsed": 1005,
     "status": "ok",
     "timestamp": 1635179849144,
     "user": {
      "displayName": "Takeshi WATANABE",
      "photoUrl": "https://lh3.googleusercontent.com/a/default-user=s64",
      "userId": "13704078326705603725"
     },
     "user_tz": -540
    },
    "id": "FzQ9-9gwRz50",
    "outputId": "d67e0533-4cfc-4349-e874-cc38ae365d54"
   },
   "outputs": [
    {
     "name": "stdout",
     "output_type": "stream",
     "text": [
      "[0]\ttrain-rmse:5.76025\teval-rmse:5.89430\n",
      "[10]\ttrain-rmse:3.89973\teval-rmse:4.65356\n",
      "[20]\ttrain-rmse:2.84026\teval-rmse:4.04254\n",
      "[30]\ttrain-rmse:2.23367\teval-rmse:3.78874\n",
      "[40]\ttrain-rmse:1.86762\teval-rmse:3.71669\n",
      "[50]\ttrain-rmse:1.60869\teval-rmse:3.69909\n",
      "[60]\ttrain-rmse:1.42865\teval-rmse:3.72663\n",
      "[70]\ttrain-rmse:1.29381\teval-rmse:3.77248\n"
     ]
    }
   ],
   "source": [
    "#モデル作成\n",
    "model_xgb = xgb.train(xgb_params,\n",
    "                      xgb_train,\n",
    "                      evals=evals,\n",
    "                      num_boost_round=1000,\n",
    "                      early_stopping_rounds=20,\n",
    "                      verbose_eval=10,)"
   ]
  },
  {
   "cell_type": "code",
   "execution_count": 121,
   "metadata": {
    "executionInfo": {
     "elapsed": 304,
     "status": "ok",
     "timestamp": 1635179895902,
     "user": {
      "displayName": "Takeshi WATANABE",
      "photoUrl": "https://lh3.googleusercontent.com/a/default-user=s64",
      "userId": "13704078326705603725"
     },
     "user_tz": -540
    },
    "id": "W0ZY1_qxSdBg"
   },
   "outputs": [],
   "source": [
    "y_pred = model_xgb.predict(xgb_eval)"
   ]
  },
  {
   "cell_type": "code",
   "execution_count": 122,
   "metadata": {
    "executionInfo": {
     "elapsed": 294,
     "status": "ok",
     "timestamp": 1635180057155,
     "user": {
      "displayName": "Takeshi WATANABE",
      "photoUrl": "https://lh3.googleusercontent.com/a/default-user=s64",
      "userId": "13704078326705603725"
     },
     "user_tz": -540
    },
    "id": "3VKi2NYMFNsG"
   },
   "outputs": [],
   "source": [
    "#現状の予測値と実際の値の違いを可視化\n",
    "actual_pred_df = pd.DataFrame({\n",
    "    \"actual\":y_test,\n",
    "    \"pred\":y_pred,\n",
    "    \"datetime\":test_set['datetime']\n",
    "})"
   ]
  },
  {
   "cell_type": "code",
   "execution_count": 123,
   "metadata": {
    "executionInfo": {
     "elapsed": 279,
     "status": "ok",
     "timestamp": 1635180121049,
     "user": {
      "displayName": "Takeshi WATANABE",
      "photoUrl": "https://lh3.googleusercontent.com/a/default-user=s64",
      "userId": "13704078326705603725"
     },
     "user_tz": -540
    },
    "id": "3-i6gw6IVGq5"
   },
   "outputs": [],
   "source": [
    "pred_df = actual_pred_df.drop('datetime', axis=1)"
   ]
  },
  {
   "cell_type": "code",
   "execution_count": 158,
   "metadata": {
    "executionInfo": {
     "elapsed": 296,
     "status": "ok",
     "timestamp": 1635180122908,
     "user": {
      "displayName": "Takeshi WATANABE",
      "photoUrl": "https://lh3.googleusercontent.com/a/default-user=s64",
      "userId": "13704078326705603725"
     },
     "user_tz": -540
    },
    "id": "rKQLAA7oFkMk"
   },
   "outputs": [],
   "source": [
    "#あらゆる指標の保存\n",
    "RMSE = mse(pred_df['actual'], pred_df['pred'])\n",
    "R2 = r2_score(pred_df['actual'], pred_df['pred'])\n",
    "MAE = mae(pred_df['actual'], pred_df['pred'])\n",
    "MAEP = MAE/pred_df['actual'].mean()\n",
    "RMSEP = RMSE/pred_df['actual'].mean()"
   ]
  },
  {
   "cell_type": "code",
   "execution_count": 159,
   "metadata": {},
   "outputs": [],
   "source": [
    "#for文を使って他の指標も作成\n",
    "actual_1 = pred_df['actual'].values.tolist()\n",
    "pred_1 = pred_df['pred'].values.tolist()"
   ]
  },
  {
   "cell_type": "code",
   "execution_count": 160,
   "metadata": {},
   "outputs": [],
   "source": [
    "pred_df_copy = pred_df\n",
    "pred_df_copy = pred_df_copy[pred_df_copy['actual'] != 0]"
   ]
  },
  {
   "cell_type": "code",
   "execution_count": 161,
   "metadata": {},
   "outputs": [],
   "source": [
    "# 保留の指標\n",
    "#MAPE = np.mean(np.abs((pred_df_copy['actual'] - pred_df_copy['pred'] / pred_df_copy['actual'])) * 100)\n",
    "#RMSEP = np.sqrt(np.mean(((pred_df_copy['pred'] - pred_df_copy['actual']) / pred_df_copy['actual'])**2))*100"
   ]
  },
  {
   "cell_type": "code",
   "execution_count": 162,
   "metadata": {
    "colab": {
     "base_uri": "https://localhost:8080/",
     "height": 423
    },
    "executionInfo": {
     "elapsed": 448,
     "status": "ok",
     "timestamp": 1635180294674,
     "user": {
      "displayName": "Takeshi WATANABE",
      "photoUrl": "https://lh3.googleusercontent.com/a/default-user=s64",
      "userId": "13704078326705603725"
     },
     "user_tz": -540
    },
    "id": "B2p3lflLVrAg",
    "outputId": "e59a757d-e241-4848-9e0c-eb9c6805b84e"
   },
   "outputs": [
    {
     "data": {
      "text/html": [
       "<div>\n",
       "<style scoped>\n",
       "    .dataframe tbody tr th:only-of-type {\n",
       "        vertical-align: middle;\n",
       "    }\n",
       "\n",
       "    .dataframe tbody tr th {\n",
       "        vertical-align: top;\n",
       "    }\n",
       "\n",
       "    .dataframe thead th {\n",
       "        text-align: right;\n",
       "    }\n",
       "</style>\n",
       "<table border=\"1\" class=\"dataframe\">\n",
       "  <thead>\n",
       "    <tr style=\"text-align: right;\">\n",
       "      <th></th>\n",
       "      <th>actual</th>\n",
       "      <th>pred</th>\n",
       "    </tr>\n",
       "  </thead>\n",
       "  <tbody>\n",
       "    <tr>\n",
       "      <th>1784</th>\n",
       "      <td>3.6014</td>\n",
       "      <td>9.709208</td>\n",
       "    </tr>\n",
       "    <tr>\n",
       "      <th>1785</th>\n",
       "      <td>2.9585</td>\n",
       "      <td>8.300687</td>\n",
       "    </tr>\n",
       "    <tr>\n",
       "      <th>1786</th>\n",
       "      <td>1.0523</td>\n",
       "      <td>10.949615</td>\n",
       "    </tr>\n",
       "    <tr>\n",
       "      <th>1787</th>\n",
       "      <td>0.8736</td>\n",
       "      <td>15.026875</td>\n",
       "    </tr>\n",
       "    <tr>\n",
       "      <th>1788</th>\n",
       "      <td>1.3454</td>\n",
       "      <td>13.227265</td>\n",
       "    </tr>\n",
       "    <tr>\n",
       "      <th>...</th>\n",
       "      <td>...</td>\n",
       "      <td>...</td>\n",
       "    </tr>\n",
       "    <tr>\n",
       "      <th>2130</th>\n",
       "      <td>0.0000</td>\n",
       "      <td>0.019760</td>\n",
       "    </tr>\n",
       "    <tr>\n",
       "      <th>2131</th>\n",
       "      <td>0.0000</td>\n",
       "      <td>0.019760</td>\n",
       "    </tr>\n",
       "    <tr>\n",
       "      <th>2132</th>\n",
       "      <td>0.0000</td>\n",
       "      <td>0.019760</td>\n",
       "    </tr>\n",
       "    <tr>\n",
       "      <th>2133</th>\n",
       "      <td>0.0000</td>\n",
       "      <td>0.019760</td>\n",
       "    </tr>\n",
       "    <tr>\n",
       "      <th>2134</th>\n",
       "      <td>0.0000</td>\n",
       "      <td>0.019760</td>\n",
       "    </tr>\n",
       "  </tbody>\n",
       "</table>\n",
       "<p>351 rows × 2 columns</p>\n",
       "</div>"
      ],
      "text/plain": [
       "      actual       pred\n",
       "1784  3.6014   9.709208\n",
       "1785  2.9585   8.300687\n",
       "1786  1.0523  10.949615\n",
       "1787  0.8736  15.026875\n",
       "1788  1.3454  13.227265\n",
       "...      ...        ...\n",
       "2130  0.0000   0.019760\n",
       "2131  0.0000   0.019760\n",
       "2132  0.0000   0.019760\n",
       "2133  0.0000   0.019760\n",
       "2134  0.0000   0.019760\n",
       "\n",
       "[351 rows x 2 columns]"
      ]
     },
     "execution_count": 162,
     "metadata": {},
     "output_type": "execute_result"
    }
   ],
   "source": [
    "pred_df"
   ]
  },
  {
   "cell_type": "code",
   "execution_count": 163,
   "metadata": {
    "colab": {
     "base_uri": "https://localhost:8080/",
     "height": 445
    },
    "executionInfo": {
     "elapsed": 1105,
     "status": "ok",
     "timestamp": 1635180652041,
     "user": {
      "displayName": "Takeshi WATANABE",
      "photoUrl": "https://lh3.googleusercontent.com/a/default-user=s64",
      "userId": "13704078326705603725"
     },
     "user_tz": -540
    },
    "id": "xbC4th3mFkRM",
    "outputId": "9d21f5f0-c0f6-47c5-abdc-e82957d12bf2"
   },
   "outputs": [
    {
     "data": {
      "image/png": "[encoded data removed]",
      "text/plain": [
       "<Figure size 1080x504 with 1 Axes>"
      ]
     },
     "metadata": {
      "needs_background": "light"
     },
     "output_type": "display_data"
    }
   ],
   "source": [
    "fig = plt.figure(figsize=(15,7))\n",
    "ax = plt.subplot(111)\n",
    "x = actual_pred_df['datetime']\n",
    "y1 = pred_df['actual']\n",
    "y2 = pred_df['pred']\n",
    "ax.set_xlabel('Seasons', fontsize=15)\n",
    "ax.set_ylabel('Insolation[kw]', fontsize=15)\n",
    "ax.plot(x,y1,'b-')\n",
    "ax.plot(x,y2,'r-')\n",
    "plt.text(0.1, 0.9, 'RMSE = {}'.format(str(round(RMSE, 5))), transform=ax.transAxes, fontsize=15)\n",
    "plt.text(0.1, 0.8, 'R^2 = {}'.format(str(round(R2, 5))), transform=ax.transAxes, fontsize=15)\n",
    "plt.show()"
   ]
  },
  {
   "cell_type": "code",
   "execution_count": 166,
   "metadata": {
    "colab": {
     "base_uri": "https://localhost:8080/",
     "height": 520
    },
    "executionInfo": {
     "elapsed": 422,
     "status": "ok",
     "timestamp": 1635180670061,
     "user": {
      "displayName": "Takeshi WATANABE",
      "photoUrl": "https://lh3.googleusercontent.com/a/default-user=s64",
      "userId": "13704078326705603725"
     },
     "user_tz": -540
    },
    "id": "jx9qNQIsFkJx",
    "outputId": "7344867e-f546-492b-8924-ae9b86663ca6"
   },
   "outputs": [
    {
     "data": {
      "image/png": "[encoded data removed]",
      "text/plain": [
       "<Figure size 576x576 with 1 Axes>"
      ]
     },
     "metadata": {
      "needs_background": "light"
     },
     "output_type": "display_data"
    }
   ],
   "source": [
    "#R^2,RMSE\n",
    "plt.figure(figsize=(8,8))\n",
    "ax = plt.subplot(111)\n",
    "ax.scatter('actual', 'pred', data=pred_df)\n",
    "ax.set_xlabel('True Value[kw]', fontsize=15)\n",
    "ax.set_ylabel('Pred Value[kw]', fontsize=15)\n",
    "ax.set_xlim(pred_df.min().min()-0.1 , pred_df.max().max()+0.1)\n",
    "ax.set_ylim(pred_df.min().min()-0.1 , pred_df.max().max()+0.1)\n",
    "x = np.linspace(pred_df.min().min()-0.1, pred_df.max().max()+0.1, 2)\n",
    "y = x\n",
    "ax.plot(x,y,'r-')\n",
    "plt.text(0.1, 0.9, 'RMSE = {}'.format(str(round(RMSE, 3))), transform=ax.transAxes, fontsize=15)\n",
    "plt.text(0.4, 0.9, 'RMSEP = {}'.format(str(round(RMSEP, 3))), transform=ax.transAxes, fontsize=15)\n",
    "plt.text(0.4, 0.8, 'MAE = {}'.format(str(round(MAE, 3))), transform=ax.transAxes, fontsize=15)\n",
    "plt.text(0.7, 0.9, 'MAEP = {}'.format(str(round(MAEP, 3))), transform=ax.transAxes, fontsize=15)\n",
    "plt.text(0.1, 0.8, 'R^2 = {}'.format(str(round(R2, 3))), transform=ax.transAxes, fontsize=15)\n",
    "\n",
    "plt.show()"
   ]
  },
  {
   "cell_type": "code",
   "execution_count": null,
   "metadata": {},
   "outputs": [],
   "source": []
  }
 ],
 "metadata": {
  "colab": {
   "authorship_tag": "ABX9TyOKBsBzaWO54IKPfsL791IL",
   "collapsed_sections": [],
   "name": "Xgboost1.ipynb ",
   "provenance": [
    {
     "file_id": "1meQAptRdvWq8aXX5GOEPacHLYW0wsaji",
     "timestamp": 1635178758249
    }
   ]
  },
  "kernelspec": {
   "display_name": "Python 3",
   "language": "python",
   "name": "python3"
  },
  "language_info": {
   "codemirror_mode": {
    "name": "ipython",
    "version": 3
   },
   "file_extension": ".py",
   "mimetype": "text/x-python",
   "name": "python",
   "nbconvert_exporter": "python",
   "pygments_lexer": "ipython3",
   "version": "3.6.13"
  }
 },
 "nbformat": 4,
 "nbformat_minor": 1
}
